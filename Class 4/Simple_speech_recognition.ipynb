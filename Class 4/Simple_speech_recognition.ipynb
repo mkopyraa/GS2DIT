{
  "cells": [
    {
      "cell_type": "markdown",
      "metadata": {
        "id": "view-in-github",
        "colab_type": "text"
      },
      "source": [
        "<a href=\"https://colab.research.google.com/github/mkopyraa/GS2DIT/blob/main/Class%204/Simple_speech_recognition.ipynb\" target=\"_parent\"><img src=\"https://colab.research.google.com/assets/colab-badge.svg\" alt=\"Open In Colab\"/></a>"
      ]
    },
    {
      "cell_type": "markdown",
      "source": [
        "Code source: https://colab.research.google.com/github/tensorflow/docs/blob/master/site/en/tutorials/audio/simple_audio.ipynb#scrollTo=wTAg4vsn3oEb"
      ],
      "metadata": {
        "id": "B81jKekEobND"
      }
    },
    {
      "cell_type": "markdown",
      "metadata": {
        "id": "fluF3_oOgkWF"
      },
      "source": [
        "##### Copyright 2020 The TensorFlow Authors."
      ]
    },
    {
      "cell_type": "code",
      "execution_count": null,
      "metadata": {
        "cellView": "form",
        "id": "AJs7HHFmg1M9"
      },
      "outputs": [],
      "source": [
        "#@title Licensed under the Apache License, Version 2.0 (the \"License\");\n",
        "# you may not use this file except in compliance with the License.\n",
        "# You may obtain a copy of the License at\n",
        "#\n",
        "# https://www.apache.org/licenses/LICENSE-2.0\n",
        "#\n",
        "# Unless required by applicable law or agreed to in writing, software\n",
        "# distributed under the License is distributed on an \"AS IS\" BASIS,\n",
        "# WITHOUT WARRANTIES OR CONDITIONS OF ANY KIND, either express or implied.\n",
        "# See the License for the specific language governing permissions and\n",
        "# limitations under the License."
      ]
    },
    {
      "cell_type": "markdown",
      "metadata": {
        "id": "jYysdyb-CaWM"
      },
      "source": [
        "# Simple audio recognition: Recognizing keywords"
      ]
    },
    {
      "cell_type": "markdown",
      "metadata": {
        "id": "CNbqmZy0gbyE"
      },
      "source": [
        "<table class=\"tfo-notebook-buttons\" align=\"left\">\n",
        "  <td>\n",
        "    <a target=\"_blank\" href=\"https://colab.research.google.com/drive/1Ga0X5AwxcpYIH55vgMxBawa9_tjW7KIL#scrollTo=CNbqmZy0gbyE\">\n",
        "    <img src=\"https://www.tensorflow.org/images/colab_logo_32px.png\" />\n",
        "    Run in Google Colab</a>\n",
        "  </td>\n",
        "</table>"
      ]
    },
    {
      "cell_type": "markdown",
      "metadata": {
        "id": "SPfDNFlb66XF"
      },
      "source": [
        "This tutorial demonstrates how to preprocess audio files in the WAV format and build and train a basic [automatic speech recognition](https://en.wikipedia.org/wiki/Speech_recognition) (ASR) model for recognizing ten different words. You will use a portion of the [Speech Commands dataset](https://www.tensorflow.org/datasets/catalog/speech_commands) ([Warden, 2018](https://arxiv.org/abs/1804.03209)), which contains short (one-second or less) audio clips of commands, such as \"down\", \"go\", \"left\", \"no\", \"right\", \"stop\", \"up\" and \"yes\"."
      ]
    },
    {
      "cell_type": "markdown",
      "metadata": {
        "id": "Go9C3uLL8Izc"
      },
      "source": [
        "## Setup\n",
        "\n",
        "Download and install necessary dependencies"
      ]
    },
    {
      "cell_type": "code",
      "source": [
        "!pip install tensorflow==2.10 tensorflow_datasets\n",
        "!apt install --allow-change-held-packages libcudnn8=8.1.0.77-1+cuda11.2"
      ],
      "metadata": {
        "id": "2tuvqtpIzKXK",
        "outputId": "17dc407e-e1e7-4fe5-f5f9-a4eba8dc1713",
        "colab": {
          "base_uri": "https://localhost:8080/",
          "height": 1000
        }
      },
      "execution_count": 1,
      "outputs": [
        {
          "output_type": "stream",
          "name": "stdout",
          "text": [
            "Looking in indexes: https://pypi.org/simple, https://us-python.pkg.dev/colab-wheels/public/simple/\n",
            "Collecting tensorflow==2.10\n",
            "  Downloading tensorflow-2.10.0-cp310-cp310-manylinux_2_17_x86_64.manylinux2014_x86_64.whl (578.0 MB)\n",
            "\u001b[2K     \u001b[90m━━━━━━━━━━━━━━━━━━━━━━━━━━━━━━━━━━━━━━━\u001b[0m \u001b[32m578.0/578.0 MB\u001b[0m \u001b[31m2.6 MB/s\u001b[0m eta \u001b[36m0:00:00\u001b[0m\n",
            "\u001b[?25hRequirement already satisfied: tensorflow_datasets in /usr/local/lib/python3.10/dist-packages (4.9.2)\n",
            "Requirement already satisfied: absl-py>=1.0.0 in /usr/local/lib/python3.10/dist-packages (from tensorflow==2.10) (1.4.0)\n",
            "Requirement already satisfied: astunparse>=1.6.0 in /usr/local/lib/python3.10/dist-packages (from tensorflow==2.10) (1.6.3)\n",
            "Requirement already satisfied: flatbuffers>=2.0 in /usr/local/lib/python3.10/dist-packages (from tensorflow==2.10) (23.3.3)\n",
            "Requirement already satisfied: gast<=0.4.0,>=0.2.1 in /usr/local/lib/python3.10/dist-packages (from tensorflow==2.10) (0.4.0)\n",
            "Requirement already satisfied: google-pasta>=0.1.1 in /usr/local/lib/python3.10/dist-packages (from tensorflow==2.10) (0.2.0)\n",
            "Requirement already satisfied: grpcio<2.0,>=1.24.3 in /usr/local/lib/python3.10/dist-packages (from tensorflow==2.10) (1.54.0)\n",
            "Requirement already satisfied: h5py>=2.9.0 in /usr/local/lib/python3.10/dist-packages (from tensorflow==2.10) (3.8.0)\n",
            "Collecting keras<2.11,>=2.10.0 (from tensorflow==2.10)\n",
            "  Downloading keras-2.10.0-py2.py3-none-any.whl (1.7 MB)\n",
            "\u001b[2K     \u001b[90m━━━━━━━━━━━━━━━━━━━━━━━━━━━━━━━━━━━━━━━━\u001b[0m \u001b[32m1.7/1.7 MB\u001b[0m \u001b[31m51.2 MB/s\u001b[0m eta \u001b[36m0:00:00\u001b[0m\n",
            "\u001b[?25hCollecting keras-preprocessing>=1.1.1 (from tensorflow==2.10)\n",
            "  Downloading Keras_Preprocessing-1.1.2-py2.py3-none-any.whl (42 kB)\n",
            "\u001b[2K     \u001b[90m━━━━━━━━━━━━━━━━━━━━━━━━━━━━━━━━━━━━━━━━\u001b[0m \u001b[32m42.6/42.6 kB\u001b[0m \u001b[31m5.6 MB/s\u001b[0m eta \u001b[36m0:00:00\u001b[0m\n",
            "\u001b[?25hRequirement already satisfied: libclang>=13.0.0 in /usr/local/lib/python3.10/dist-packages (from tensorflow==2.10) (16.0.0)\n",
            "Requirement already satisfied: numpy>=1.20 in /usr/local/lib/python3.10/dist-packages (from tensorflow==2.10) (1.22.4)\n",
            "Requirement already satisfied: opt-einsum>=2.3.2 in /usr/local/lib/python3.10/dist-packages (from tensorflow==2.10) (3.3.0)\n",
            "Requirement already satisfied: packaging in /usr/local/lib/python3.10/dist-packages (from tensorflow==2.10) (23.1)\n",
            "Collecting protobuf<3.20,>=3.9.2 (from tensorflow==2.10)\n",
            "  Downloading protobuf-3.19.6-cp310-cp310-manylinux_2_17_x86_64.manylinux2014_x86_64.whl (1.1 MB)\n",
            "\u001b[2K     \u001b[90m━━━━━━━━━━━━━━━━━━━━━━━━━━━━━━━━━━━━━━━━\u001b[0m \u001b[32m1.1/1.1 MB\u001b[0m \u001b[31m33.8 MB/s\u001b[0m eta \u001b[36m0:00:00\u001b[0m\n",
            "\u001b[?25hRequirement already satisfied: setuptools in /usr/local/lib/python3.10/dist-packages (from tensorflow==2.10) (67.7.2)\n",
            "Requirement already satisfied: six>=1.12.0 in /usr/local/lib/python3.10/dist-packages (from tensorflow==2.10) (1.16.0)\n",
            "Collecting tensorboard<2.11,>=2.10 (from tensorflow==2.10)\n",
            "  Downloading tensorboard-2.10.1-py3-none-any.whl (5.9 MB)\n",
            "\u001b[2K     \u001b[90m━━━━━━━━━━━━━━━━━━━━━━━━━━━━━━━━━━━━━━━━\u001b[0m \u001b[32m5.9/5.9 MB\u001b[0m \u001b[31m74.5 MB/s\u001b[0m eta \u001b[36m0:00:00\u001b[0m\n",
            "\u001b[?25hRequirement already satisfied: tensorflow-io-gcs-filesystem>=0.23.1 in /usr/local/lib/python3.10/dist-packages (from tensorflow==2.10) (0.32.0)\n",
            "Collecting tensorflow-estimator<2.11,>=2.10.0 (from tensorflow==2.10)\n",
            "  Downloading tensorflow_estimator-2.10.0-py2.py3-none-any.whl (438 kB)\n",
            "\u001b[2K     \u001b[90m━━━━━━━━━━━━━━━━━━━━━━━━━━━━━━━━━━━━━━\u001b[0m \u001b[32m438.7/438.7 kB\u001b[0m \u001b[31m30.1 MB/s\u001b[0m eta \u001b[36m0:00:00\u001b[0m\n",
            "\u001b[?25hRequirement already satisfied: termcolor>=1.1.0 in /usr/local/lib/python3.10/dist-packages (from tensorflow==2.10) (2.3.0)\n",
            "Requirement already satisfied: typing-extensions>=3.6.6 in /usr/local/lib/python3.10/dist-packages (from tensorflow==2.10) (4.5.0)\n",
            "Requirement already satisfied: wrapt>=1.11.0 in /usr/local/lib/python3.10/dist-packages (from tensorflow==2.10) (1.14.1)\n",
            "Requirement already satisfied: array-record in /usr/local/lib/python3.10/dist-packages (from tensorflow_datasets) (0.2.0)\n",
            "Requirement already satisfied: click in /usr/local/lib/python3.10/dist-packages (from tensorflow_datasets) (8.1.3)\n",
            "Requirement already satisfied: dm-tree in /usr/local/lib/python3.10/dist-packages (from tensorflow_datasets) (0.1.8)\n",
            "Requirement already satisfied: etils[enp,epath]>=0.9.0 in /usr/local/lib/python3.10/dist-packages (from tensorflow_datasets) (1.2.0)\n",
            "Requirement already satisfied: promise in /usr/local/lib/python3.10/dist-packages (from tensorflow_datasets) (2.3)\n",
            "INFO: pip is looking at multiple versions of tensorflow-datasets to determine which version is compatible with other requirements. This could take a while.\n",
            "Collecting tensorflow_datasets\n",
            "  Downloading tensorflow_datasets-4.9.1-py3-none-any.whl (5.4 MB)\n",
            "\u001b[2K     \u001b[90m━━━━━━━━━━━━━━━━━━━━━━━━━━━━━━━━━━━━━━━━\u001b[0m \u001b[32m5.4/5.4 MB\u001b[0m \u001b[31m56.6 MB/s\u001b[0m eta \u001b[36m0:00:00\u001b[0m\n",
            "\u001b[?25h  Downloading tensorflow_datasets-4.9.0-py3-none-any.whl (5.4 MB)\n",
            "\u001b[2K     \u001b[90m━━━━━━━━━━━━━━━━━━━━━━━━━━━━━━━━━━━━━━━━\u001b[0m \u001b[32m5.4/5.4 MB\u001b[0m \u001b[31m56.1 MB/s\u001b[0m eta \u001b[36m0:00:00\u001b[0m\n",
            "\u001b[?25hRequirement already satisfied: psutil in /usr/local/lib/python3.10/dist-packages (from tensorflow_datasets) (5.9.5)\n",
            "Requirement already satisfied: requests>=2.19.0 in /usr/local/lib/python3.10/dist-packages (from tensorflow_datasets) (2.27.1)\n",
            "Requirement already satisfied: tensorflow-metadata in /usr/local/lib/python3.10/dist-packages (from tensorflow_datasets) (1.13.1)\n",
            "Requirement already satisfied: toml in /usr/local/lib/python3.10/dist-packages (from tensorflow_datasets) (0.10.2)\n",
            "Requirement already satisfied: tqdm in /usr/local/lib/python3.10/dist-packages (from tensorflow_datasets) (4.65.0)\n",
            "Requirement already satisfied: wheel<1.0,>=0.23.0 in /usr/local/lib/python3.10/dist-packages (from astunparse>=1.6.0->tensorflow==2.10) (0.40.0)\n",
            "Requirement already satisfied: importlib_resources in /usr/local/lib/python3.10/dist-packages (from etils[enp,epath]>=0.9.0->tensorflow_datasets) (5.12.0)\n",
            "Requirement already satisfied: zipp in /usr/local/lib/python3.10/dist-packages (from etils[enp,epath]>=0.9.0->tensorflow_datasets) (3.15.0)\n",
            "Requirement already satisfied: urllib3<1.27,>=1.21.1 in /usr/local/lib/python3.10/dist-packages (from requests>=2.19.0->tensorflow_datasets) (1.26.15)\n",
            "Requirement already satisfied: certifi>=2017.4.17 in /usr/local/lib/python3.10/dist-packages (from requests>=2.19.0->tensorflow_datasets) (2022.12.7)\n",
            "Requirement already satisfied: charset-normalizer~=2.0.0 in /usr/local/lib/python3.10/dist-packages (from requests>=2.19.0->tensorflow_datasets) (2.0.12)\n",
            "Requirement already satisfied: idna<4,>=2.5 in /usr/local/lib/python3.10/dist-packages (from requests>=2.19.0->tensorflow_datasets) (3.4)\n",
            "Requirement already satisfied: google-auth<3,>=1.6.3 in /usr/local/lib/python3.10/dist-packages (from tensorboard<2.11,>=2.10->tensorflow==2.10) (2.17.3)\n",
            "Collecting google-auth-oauthlib<0.5,>=0.4.1 (from tensorboard<2.11,>=2.10->tensorflow==2.10)\n",
            "  Downloading google_auth_oauthlib-0.4.6-py2.py3-none-any.whl (18 kB)\n",
            "Requirement already satisfied: markdown>=2.6.8 in /usr/local/lib/python3.10/dist-packages (from tensorboard<2.11,>=2.10->tensorflow==2.10) (3.4.3)\n",
            "Collecting tensorboard-data-server<0.7.0,>=0.6.0 (from tensorboard<2.11,>=2.10->tensorflow==2.10)\n",
            "  Downloading tensorboard_data_server-0.6.1-py3-none-manylinux2010_x86_64.whl (4.9 MB)\n",
            "\u001b[2K     \u001b[90m━━━━━━━━━━━━━━━━━━━━━━━━━━━━━━━━━━━━━━━━\u001b[0m \u001b[32m4.9/4.9 MB\u001b[0m \u001b[31m41.2 MB/s\u001b[0m eta \u001b[36m0:00:00\u001b[0m\n",
            "\u001b[?25hRequirement already satisfied: tensorboard-plugin-wit>=1.6.0 in /usr/local/lib/python3.10/dist-packages (from tensorboard<2.11,>=2.10->tensorflow==2.10) (1.8.1)\n",
            "Requirement already satisfied: werkzeug>=1.0.1 in /usr/local/lib/python3.10/dist-packages (from tensorboard<2.11,>=2.10->tensorflow==2.10) (2.3.0)\n",
            "Requirement already satisfied: googleapis-common-protos<2,>=1.52.0 in /usr/local/lib/python3.10/dist-packages (from tensorflow-metadata->tensorflow_datasets) (1.59.0)\n",
            "INFO: pip is looking at multiple versions of tensorflow-metadata to determine which version is compatible with other requirements. This could take a while.\n",
            "Collecting tensorflow-metadata (from tensorflow_datasets)\n",
            "  Downloading tensorflow_metadata-1.13.0-py3-none-any.whl (53 kB)\n",
            "\u001b[2K     \u001b[90m━━━━━━━━━━━━━━━━━━━━━━━━━━━━━━━━━━━━━━━━\u001b[0m \u001b[32m53.3/53.3 kB\u001b[0m \u001b[31m7.4 MB/s\u001b[0m eta \u001b[36m0:00:00\u001b[0m\n",
            "\u001b[?25hRequirement already satisfied: cachetools<6.0,>=2.0.0 in /usr/local/lib/python3.10/dist-packages (from google-auth<3,>=1.6.3->tensorboard<2.11,>=2.10->tensorflow==2.10) (5.3.0)\n",
            "Requirement already satisfied: pyasn1-modules>=0.2.1 in /usr/local/lib/python3.10/dist-packages (from google-auth<3,>=1.6.3->tensorboard<2.11,>=2.10->tensorflow==2.10) (0.3.0)\n",
            "Requirement already satisfied: rsa<5,>=3.1.4 in /usr/local/lib/python3.10/dist-packages (from google-auth<3,>=1.6.3->tensorboard<2.11,>=2.10->tensorflow==2.10) (4.9)\n",
            "Requirement already satisfied: requests-oauthlib>=0.7.0 in /usr/local/lib/python3.10/dist-packages (from google-auth-oauthlib<0.5,>=0.4.1->tensorboard<2.11,>=2.10->tensorflow==2.10) (1.3.1)\n",
            "Requirement already satisfied: MarkupSafe>=2.1.1 in /usr/local/lib/python3.10/dist-packages (from werkzeug>=1.0.1->tensorboard<2.11,>=2.10->tensorflow==2.10) (2.1.2)\n",
            "Requirement already satisfied: pyasn1<0.6.0,>=0.4.6 in /usr/local/lib/python3.10/dist-packages (from pyasn1-modules>=0.2.1->google-auth<3,>=1.6.3->tensorboard<2.11,>=2.10->tensorflow==2.10) (0.5.0)\n",
            "Requirement already satisfied: oauthlib>=3.0.0 in /usr/local/lib/python3.10/dist-packages (from requests-oauthlib>=0.7.0->google-auth-oauthlib<0.5,>=0.4.1->tensorboard<2.11,>=2.10->tensorflow==2.10) (3.2.2)\n",
            "Installing collected packages: keras, tensorflow-estimator, tensorboard-data-server, protobuf, keras-preprocessing, tensorflow-metadata, google-auth-oauthlib, tensorflow_datasets, tensorboard, tensorflow\n",
            "  Attempting uninstall: keras\n",
            "    Found existing installation: keras 2.12.0\n",
            "    Uninstalling keras-2.12.0:\n",
            "      Successfully uninstalled keras-2.12.0\n",
            "  Attempting uninstall: tensorflow-estimator\n",
            "    Found existing installation: tensorflow-estimator 2.12.0\n",
            "    Uninstalling tensorflow-estimator-2.12.0:\n",
            "      Successfully uninstalled tensorflow-estimator-2.12.0\n",
            "  Attempting uninstall: tensorboard-data-server\n",
            "    Found existing installation: tensorboard-data-server 0.7.0\n",
            "    Uninstalling tensorboard-data-server-0.7.0:\n",
            "      Successfully uninstalled tensorboard-data-server-0.7.0\n",
            "  Attempting uninstall: protobuf\n",
            "    Found existing installation: protobuf 3.20.3\n",
            "    Uninstalling protobuf-3.20.3:\n",
            "      Successfully uninstalled protobuf-3.20.3\n",
            "  Attempting uninstall: tensorflow-metadata\n",
            "    Found existing installation: tensorflow-metadata 1.13.1\n",
            "    Uninstalling tensorflow-metadata-1.13.1:\n",
            "      Successfully uninstalled tensorflow-metadata-1.13.1\n",
            "  Attempting uninstall: google-auth-oauthlib\n",
            "    Found existing installation: google-auth-oauthlib 1.0.0\n",
            "    Uninstalling google-auth-oauthlib-1.0.0:\n",
            "      Successfully uninstalled google-auth-oauthlib-1.0.0\n",
            "  Attempting uninstall: tensorflow_datasets\n",
            "    Found existing installation: tensorflow-datasets 4.9.2\n",
            "    Uninstalling tensorflow-datasets-4.9.2:\n",
            "      Successfully uninstalled tensorflow-datasets-4.9.2\n",
            "  Attempting uninstall: tensorboard\n",
            "    Found existing installation: tensorboard 2.12.2\n",
            "    Uninstalling tensorboard-2.12.2:\n",
            "      Successfully uninstalled tensorboard-2.12.2\n",
            "  Attempting uninstall: tensorflow\n",
            "    Found existing installation: tensorflow 2.12.0\n",
            "    Uninstalling tensorflow-2.12.0:\n",
            "      Successfully uninstalled tensorflow-2.12.0\n",
            "Successfully installed google-auth-oauthlib-0.4.6 keras-2.10.0 keras-preprocessing-1.1.2 protobuf-3.19.6 tensorboard-2.10.1 tensorboard-data-server-0.6.1 tensorflow-2.10.0 tensorflow-estimator-2.10.0 tensorflow-metadata-1.13.0 tensorflow_datasets-4.9.0\n"
          ]
        },
        {
          "output_type": "display_data",
          "data": {
            "application/vnd.colab-display-data+json": {
              "pip_warning": {
                "packages": [
                  "google"
                ]
              }
            }
          },
          "metadata": {}
        },
        {
          "output_type": "stream",
          "name": "stdout",
          "text": [
            "Reading package lists... Done\n",
            "Building dependency tree       \n",
            "Reading state information... Done\n",
            "The following packages will be REMOVED:\n",
            "  libcudnn8-dev\n",
            "The following held packages will be changed:\n",
            "  libcudnn8\n",
            "The following packages will be DOWNGRADED:\n",
            "  libcudnn8\n",
            "0 upgraded, 0 newly installed, 1 downgraded, 1 to remove and 32 not upgraded.\n",
            "Need to get 430 MB of archives.\n",
            "After this operation, 1,153 MB disk space will be freed.\n",
            "Get:1 https://developer.download.nvidia.com/compute/cuda/repos/ubuntu2004/x86_64  libcudnn8 8.1.0.77-1+cuda11.2 [430 MB]\n",
            "Fetched 430 MB in 5s (91.4 MB/s)\n",
            "^C\n"
          ]
        }
      ]
    },
    {
      "cell_type": "code",
      "execution_count": 1,
      "metadata": {
        "id": "dzLKpmZICaWN"
      },
      "outputs": [],
      "source": [
        "import os\n",
        "import pathlib\n",
        "\n",
        "import matplotlib.pyplot as plt\n",
        "import numpy as np\n",
        "import seaborn as sns\n",
        "import tensorflow as tf\n",
        "\n",
        "from tensorflow.keras import layers\n",
        "from tensorflow.keras import models\n",
        "from IPython import display\n",
        "\n",
        "# Set the seed value for experiment reproducibility.\n",
        "seed = 42\n",
        "tf.random.set_seed(seed)\n",
        "np.random.seed(seed)"
      ]
    },
    {
      "cell_type": "markdown",
      "metadata": {
        "id": "yR0EdgrLCaWR"
      },
      "source": [
        "## Import the mini Speech Commands dataset\n",
        "\n",
        "To save time with data loading, you will be working with a smaller version of the Speech Commands dataset.\n",
        "Download and extract the `mini_speech_commands.zip` file containing the smaller Speech Commands datasets with `tf.keras.utils.get_file`:"
      ]
    },
    {
      "cell_type": "code",
      "execution_count": 2,
      "metadata": {
        "id": "2-rayb7-3Y0I",
        "outputId": "3974d5cd-8cb7-4a20-b940-2d86bac0c5f0",
        "colab": {
          "base_uri": "https://localhost:8080/"
        }
      },
      "outputs": [
        {
          "output_type": "stream",
          "name": "stdout",
          "text": [
            "Downloading data from http://storage.googleapis.com/download.tensorflow.org/data/mini_speech_commands.zip\n",
            "182082353/182082353 [==============================] - 9s 0us/step\n"
          ]
        }
      ],
      "source": [
        "DATASET_PATH = 'data/mini_speech_commands'\n",
        "\n",
        "data_dir = pathlib.Path(DATASET_PATH)\n",
        "if not data_dir.exists():\n",
        "  tf.keras.utils.get_file(\n",
        "      'mini_speech_commands.zip',\n",
        "      origin=\"http://storage.googleapis.com/download.tensorflow.org/data/mini_speech_commands.zip\",\n",
        "      extract=True,\n",
        "      cache_dir='.', cache_subdir='data')"
      ]
    },
    {
      "cell_type": "markdown",
      "metadata": {
        "id": "BgvFq3uYiS5G"
      },
      "source": [
        "The dataset's audio clips are stored in eight folders corresponding to each speech command: `no`, `yes`, `down`, `go`, `left`, `up`, `right`, and `stop`:"
      ]
    },
    {
      "cell_type": "code",
      "execution_count": 3,
      "metadata": {
        "id": "70IBxSKxA1N9",
        "outputId": "a68b3f97-657a-4a85-9db6-29230a4e549a",
        "colab": {
          "base_uri": "https://localhost:8080/"
        }
      },
      "outputs": [
        {
          "output_type": "stream",
          "name": "stdout",
          "text": [
            "Commands: ['stop' 'right' 'go' 'up' 'no' 'yes' 'down' 'left']\n"
          ]
        }
      ],
      "source": [
        "commands = np.array(tf.io.gfile.listdir(str(data_dir)))\n",
        "commands = commands[(commands != 'README.md') & (commands != '.DS_Store')]\n",
        "print('Commands:', commands)"
      ]
    },
    {
      "cell_type": "markdown",
      "metadata": {
        "id": "TZ7GJjDvHqtt"
      },
      "source": [
        "Now we split the data into train and test datasets.\n",
        "\n",
        "The audio clips are 1 second or less at 16kHz."
      ]
    },
    {
      "cell_type": "code",
      "execution_count": 4,
      "metadata": {
        "id": "mFM4c3aMC8Qv",
        "outputId": "e0265abc-9e34-4cdf-fb72-7afadb14a1ae",
        "colab": {
          "base_uri": "https://localhost:8080/"
        }
      },
      "outputs": [
        {
          "output_type": "stream",
          "name": "stdout",
          "text": [
            "Found 8000 files belonging to 8 classes.\n",
            "Using 6400 files for training.\n",
            "Using 1600 files for validation.\n",
            "\n",
            "label names: ['down' 'go' 'left' 'no' 'right' 'stop' 'up' 'yes']\n"
          ]
        }
      ],
      "source": [
        "train_ds, val_ds = tf.keras.utils.audio_dataset_from_directory(\n",
        "    directory=data_dir,\n",
        "    batch_size=64,\n",
        "    validation_split=0.2,\n",
        "    seed=0,\n",
        "    output_sequence_length=16000,\n",
        "    subset='both')\n",
        "\n",
        "label_names = np.array(train_ds.class_names)\n",
        "print()\n",
        "print(\"label names:\", label_names)"
      ]
    },
    {
      "cell_type": "code",
      "execution_count": 5,
      "metadata": {
        "id": "Xl-tnniUIBlM"
      },
      "outputs": [],
      "source": [
        "def squeeze(audio, labels):\n",
        "  audio = tf.squeeze(audio, axis=-1)\n",
        "  return audio, labels\n",
        "\n",
        "train_ds = train_ds.map(squeeze, tf.data.AUTOTUNE)\n",
        "val_ds = val_ds.map(squeeze, tf.data.AUTOTUNE)"
      ]
    },
    {
      "cell_type": "markdown",
      "metadata": {
        "id": "DtsCSWZN5ILv"
      },
      "source": [
        "We have to split our calidation dataset into val and test set."
      ]
    },
    {
      "cell_type": "code",
      "execution_count": 6,
      "metadata": {
        "id": "u5UEGsqM5Gss"
      },
      "outputs": [],
      "source": [
        "test_ds = val_ds.shard(num_shards=2, index=0)\n",
        "val_ds = val_ds.shard(num_shards=2, index=1)"
      ]
    },
    {
      "cell_type": "code",
      "execution_count": 7,
      "metadata": {
        "id": "xIeoJcwJH5h9",
        "outputId": "dd4e4030-152b-4891-9e08-4a6cb52e941c",
        "colab": {
          "base_uri": "https://localhost:8080/"
        }
      },
      "outputs": [
        {
          "output_type": "stream",
          "name": "stdout",
          "text": [
            "(64, 16000)\n",
            "(64,)\n"
          ]
        }
      ],
      "source": [
        "for example_audio, example_labels in train_ds.take(1):  \n",
        "  print(example_audio.shape)\n",
        "  print(example_labels.shape)"
      ]
    },
    {
      "cell_type": "markdown",
      "metadata": {
        "id": "voxGEwvuh2L7"
      },
      "source": [
        "Let's plot a few audio waveforms:"
      ]
    },
    {
      "cell_type": "markdown",
      "metadata": {
        "id": "EWXPphxm0B4m"
      },
      "source": [
        "## Convert waveforms to spectrograms\n",
        "\n",
        "The waveforms in the dataset are represented in the time domain. Next, you'll transform the waveforms from the time-domain signals into the time-frequency-domain signals by computing the [short-time Fourier transform (STFT)](https://en.wikipedia.org/wiki/Short-time_Fourier_transform) to convert the waveforms to as [spectrograms](https://en.wikipedia.org/wiki/Spectrogram), which show frequency changes over time and can be represented as 2D images."
      ]
    },
    {
      "cell_type": "code",
      "execution_count": 8,
      "metadata": {
        "id": "_4CK75DHz_OR"
      },
      "outputs": [],
      "source": [
        "def get_spectrogram(waveform):\n",
        "  # Convert the waveform to a spectrogram via a STFT.\n",
        "  spectrogram = tf.signal.stft(\n",
        "      waveform, frame_length=255, frame_step=128)\n",
        "  # Obtain the magnitude of the STFT.\n",
        "  spectrogram = tf.abs(spectrogram)\n",
        "  # Add a `channels` dimension, so that the spectrogram can be used\n",
        "  # as image-like input data with convolution layers (which expect\n",
        "  # shape (`batch_size`, `height`, `width`, `channels`).\n",
        "  spectrogram = spectrogram[..., tf.newaxis]\n",
        "  return spectrogram"
      ]
    },
    {
      "cell_type": "markdown",
      "metadata": {
        "id": "xnSuqyxJ1isF"
      },
      "source": [
        "Now, define a function for displaying a spectrogram:"
      ]
    },
    {
      "cell_type": "code",
      "execution_count": null,
      "metadata": {
        "id": "e62jzb36-Jog"
      },
      "outputs": [],
      "source": [
        "#def plot_spectrogram(spectrogram, ax):\n",
        "#  if len(spectrogram.shape) > 2:\n",
        "#    assert len(spectrogram.shape) == 3\n",
        "#    spectrogram = np.squeeze(spectrogram, axis=-1)\n",
        "#  # Convert the frequencies to log scale and transpose, so that the time is\n",
        "#  # represented on the x-axis (columns).\n",
        "#  # Add an epsilon to avoid taking a log of zero.\n",
        "#  log_spec = np.log(spectrogram.T + np.finfo(float).eps)\n",
        "#  height = log_spec.shape[0]\n",
        "#  width = log_spec.shape[1]\n",
        "#  X = np.linspace(0, np.size(spectrogram), num=width, dtype=int)\n",
        "#  Y = range(height)\n",
        "#  ax.pcolormesh(X, Y, log_spec)"
      ]
    },
    {
      "cell_type": "markdown",
      "metadata": {
        "id": "GyYXjW07jCHA"
      },
      "source": [
        "Now, create spectrogramn datasets from the audio datasets:"
      ]
    },
    {
      "cell_type": "code",
      "execution_count": 9,
      "metadata": {
        "id": "mAD0LpkgqtQo"
      },
      "outputs": [],
      "source": [
        "def make_spec_ds(ds):\n",
        "  return ds.map(\n",
        "      map_func=lambda audio,label: (get_spectrogram(audio), label),\n",
        "      num_parallel_calls=tf.data.AUTOTUNE)"
      ]
    },
    {
      "cell_type": "code",
      "execution_count": 10,
      "metadata": {
        "id": "yEVb_oK0oBLQ"
      },
      "outputs": [],
      "source": [
        "train_spectrogram_ds = make_spec_ds(train_ds)\n",
        "val_spectrogram_ds = make_spec_ds(val_ds)\n",
        "test_spectrogram_ds = make_spec_ds(test_ds)"
      ]
    },
    {
      "cell_type": "code",
      "source": [
        "for example_spectrograms, example_spect_labels in train_spectrogram_ds.take(1):\n",
        "  break"
      ],
      "metadata": {
        "id": "Pp8S55hQuGgH"
      },
      "execution_count": 11,
      "outputs": []
    },
    {
      "cell_type": "markdown",
      "metadata": {
        "id": "z5KdY8IF8rkt"
      },
      "source": [
        "## Build and train the model"
      ]
    },
    {
      "cell_type": "code",
      "execution_count": null,
      "metadata": {
        "id": "fdZ6M-F5_QzY"
      },
      "outputs": [],
      "source": [
        "train_spectrogram_ds = train_spectrogram_ds.cache().shuffle(10000).prefetch(tf.data.AUTOTUNE)\n",
        "val_spectrogram_ds = val_spectrogram_ds.cache().prefetch(tf.data.AUTOTUNE)\n",
        "test_spectrogram_ds = test_spectrogram_ds.cache().prefetch(tf.data.AUTOTUNE)"
      ]
    },
    {
      "cell_type": "markdown",
      "metadata": {
        "id": "rwHkKCQQb5oW"
      },
      "source": [
        "For the model, you'll use a simple convolutional neural network (CNN), since you have transformed the audio files into spectrogram images.\n",
        "\n",
        "Your `tf.keras.Sequential` model will use the following Keras preprocessing layers:\n",
        "\n",
        "- `tf.keras.layers.Resizing`: to downsample the input to enable the model to train faster.\n",
        "- `tf.keras.layers.Normalization`: to normalize each pixel in the image based on its mean and standard deviation."
      ]
    },
    {
      "cell_type": "code",
      "execution_count": 12,
      "metadata": {
        "id": "ALYz7PFCHblP",
        "outputId": "5ac60e48-e033-4926-f49d-8ed2a32152fc",
        "colab": {
          "base_uri": "https://localhost:8080/"
        }
      },
      "outputs": [
        {
          "output_type": "stream",
          "name": "stdout",
          "text": [
            "Input shape: (124, 129, 1)\n",
            "Model: \"sequential\"\n",
            "_________________________________________________________________\n",
            " Layer (type)                Output Shape              Param #   \n",
            "=================================================================\n",
            " resizing (Resizing)         (None, 32, 32, 1)         0         \n",
            "                                                                 \n",
            " normalization (Normalizatio  (None, 32, 32, 1)        3         \n",
            " n)                                                              \n",
            "                                                                 \n",
            " conv2d (Conv2D)             (None, 30, 30, 32)        320       \n",
            "                                                                 \n",
            " conv2d_1 (Conv2D)           (None, 28, 28, 64)        18496     \n",
            "                                                                 \n",
            " max_pooling2d (MaxPooling2D  (None, 14, 14, 64)       0         \n",
            " )                                                               \n",
            "                                                                 \n",
            " dropout (Dropout)           (None, 14, 14, 64)        0         \n",
            "                                                                 \n",
            " flatten (Flatten)           (None, 12544)             0         \n",
            "                                                                 \n",
            " dense (Dense)               (None, 128)               1605760   \n",
            "                                                                 \n",
            " dropout_1 (Dropout)         (None, 128)               0         \n",
            "                                                                 \n",
            " dense_1 (Dense)             (None, 8)                 1032      \n",
            "                                                                 \n",
            "=================================================================\n",
            "Total params: 1,625,611\n",
            "Trainable params: 1,625,608\n",
            "Non-trainable params: 3\n",
            "_________________________________________________________________\n"
          ]
        }
      ],
      "source": [
        "input_shape = example_spectrograms.shape[1:]\n",
        "print('Input shape:', input_shape)\n",
        "num_labels = len(label_names)\n",
        "\n",
        "# Instantiate the `tf.keras.layers.Normalization` layer.\n",
        "norm_layer = layers.Normalization()\n",
        "# Fit the state of the layer to the spectrograms\n",
        "# with `Normalization.adapt`.\n",
        "norm_layer.adapt(data=train_spectrogram_ds.map(map_func=lambda spec, label: spec))\n",
        "\n",
        "model = models.Sequential([\n",
        "    tf.keras.layers.Input(shape=input_shape),\n",
        "    # Downsample the input.\n",
        "    tf.keras.layers.Resizing(32, 32),\n",
        "    # Normalize.\n",
        "    norm_layer,\n",
        "    tf.keras.layers.Conv2D(32, 3, activation='relu'),\n",
        "    tf.keras.layers.Conv2D(64, 3, activation='relu'),\n",
        "    tf.keras.layers.MaxPooling2D(),\n",
        "    tf.keras.layers.Dropout(0.25),\n",
        "    tf.keras.layers.Flatten(),\n",
        "    tf.keras.layers.Dense(128, activation='relu'),\n",
        "    tf.keras.layers.Dropout(0.5),\n",
        "    tf.keras.layers.Dense(num_labels),\n",
        "])\n",
        "\n",
        "model.summary()"
      ]
    },
    {
      "cell_type": "markdown",
      "metadata": {
        "id": "de52e5afa2f3"
      },
      "source": [
        "Configure the Keras model with the Adam optimizer and the cross-entropy loss:"
      ]
    },
    {
      "cell_type": "code",
      "execution_count": 13,
      "metadata": {
        "id": "wFjj7-EmsTD-"
      },
      "outputs": [],
      "source": [
        "model.compile(\n",
        "    optimizer=tf.keras.optimizers.Adam(),\n",
        "    loss=tf.keras.losses.SparseCategoricalCrossentropy(from_logits=True),\n",
        "    metrics=['accuracy'],\n",
        ")"
      ]
    },
    {
      "cell_type": "markdown",
      "metadata": {
        "id": "f42b9e3a4705"
      },
      "source": [
        "Train the model over 10 epochs for demonstration purposes:"
      ]
    },
    {
      "cell_type": "code",
      "execution_count": 14,
      "metadata": {
        "id": "ttioPJVMcGtq",
        "outputId": "1a17ffa4-2bea-4a9b-e31f-0fe108e797cc",
        "colab": {
          "base_uri": "https://localhost:8080/"
        }
      },
      "outputs": [
        {
          "output_type": "stream",
          "name": "stdout",
          "text": [
            "Epoch 1/10\n",
            "100/100 [==============================] - 20s 114ms/step - loss: 1.7263 - accuracy: 0.3705 - val_loss: 1.2976 - val_accuracy: 0.5885\n",
            "Epoch 2/10\n",
            "100/100 [==============================] - 10s 101ms/step - loss: 1.1791 - accuracy: 0.5800 - val_loss: 0.9576 - val_accuracy: 0.7096\n",
            "Epoch 3/10\n",
            "100/100 [==============================] - 12s 115ms/step - loss: 0.9045 - accuracy: 0.6812 - val_loss: 0.7996 - val_accuracy: 0.7786\n",
            "Epoch 4/10\n",
            "100/100 [==============================] - 10s 94ms/step - loss: 0.7336 - accuracy: 0.7381 - val_loss: 0.6990 - val_accuracy: 0.7930\n",
            "Epoch 5/10\n",
            "100/100 [==============================] - 10s 97ms/step - loss: 0.6418 - accuracy: 0.7730 - val_loss: 0.6140 - val_accuracy: 0.8203\n",
            "Epoch 6/10\n",
            "100/100 [==============================] - 11s 111ms/step - loss: 0.5463 - accuracy: 0.8058 - val_loss: 0.5782 - val_accuracy: 0.8281\n",
            "Epoch 7/10\n",
            "100/100 [==============================] - 11s 111ms/step - loss: 0.4947 - accuracy: 0.8258 - val_loss: 0.5634 - val_accuracy: 0.8346\n",
            "Epoch 8/10\n",
            "100/100 [==============================] - 10s 91ms/step - loss: 0.4332 - accuracy: 0.8497 - val_loss: 0.5316 - val_accuracy: 0.8451\n",
            "Epoch 9/10\n",
            "100/100 [==============================] - 12s 114ms/step - loss: 0.4078 - accuracy: 0.8609 - val_loss: 0.5012 - val_accuracy: 0.8424\n",
            "Epoch 10/10\n",
            "100/100 [==============================] - 10s 95ms/step - loss: 0.3645 - accuracy: 0.8712 - val_loss: 0.4977 - val_accuracy: 0.8581\n"
          ]
        }
      ],
      "source": [
        "EPOCHS = 10\n",
        "history = model.fit(\n",
        "    train_spectrogram_ds,\n",
        "    validation_data=val_spectrogram_ds,\n",
        "    epochs=EPOCHS,\n",
        "    callbacks=tf.keras.callbacks.EarlyStopping(verbose=1, patience=2),\n",
        ")"
      ]
    },
    {
      "cell_type": "markdown",
      "metadata": {
        "id": "gjpCDeQ4mUfS"
      },
      "source": [
        "Let's plot the training and validation loss curves to check how your model has improved during training:"
      ]
    },
    {
      "cell_type": "code",
      "execution_count": 15,
      "metadata": {
        "id": "nzhipg3Gu2AY",
        "outputId": "71ba4ccb-d212-4b68-dc0b-659d2aeabfd5",
        "colab": {
          "base_uri": "https://localhost:8080/",
          "height": 564
        }
      },
      "outputs": [
        {
          "output_type": "execute_result",
          "data": {
            "text/plain": [
              "Text(0, 0.5, 'Accuracy [%]')"
            ]
          },
          "metadata": {},
          "execution_count": 15
        },
        {
          "output_type": "display_data",
          "data": {
            "text/plain": [
              "<Figure size 1600x600 with 2 Axes>"
            ],
            "image/png": "[encoded data removed]"
          },
          "metadata": {}
        }
      ],
      "source": [
        "metrics = history.history\n",
        "plt.figure(figsize=(16,6))\n",
        "plt.subplot(1,2,1)\n",
        "plt.plot(history.epoch, metrics['loss'], metrics['val_loss'])\n",
        "plt.legend(['loss', 'val_loss'])\n",
        "plt.ylim([0, max(plt.ylim())])\n",
        "plt.xlabel('Epoch')\n",
        "plt.ylabel('Loss [CrossEntropy]')\n",
        "\n",
        "plt.subplot(1,2,2)\n",
        "plt.plot(history.epoch, 100*np.array(metrics['accuracy']), 100*np.array(metrics['val_accuracy']))\n",
        "plt.legend(['accuracy', 'val_accuracy'])\n",
        "plt.ylim([0, 100])\n",
        "plt.xlabel('Epoch')\n",
        "plt.ylabel('Accuracy [%]')"
      ]
    },
    {
      "cell_type": "markdown",
      "metadata": {
        "id": "5ZTt3kO3mfm4"
      },
      "source": [
        "## Evaluate the model performance\n",
        "\n",
        "Run the model on the test set and check the model's performance:"
      ]
    },
    {
      "cell_type": "code",
      "execution_count": 16,
      "metadata": {
        "id": "FapuRT_SsWGQ",
        "outputId": "885a83b7-5713-4f1f-8939-fe0bc7086b17",
        "colab": {
          "base_uri": "https://localhost:8080/"
        }
      },
      "outputs": [
        {
          "output_type": "stream",
          "name": "stdout",
          "text": [
            "13/13 [==============================] - 1s 88ms/step - loss: 0.4751 - accuracy: 0.8438\n"
          ]
        },
        {
          "output_type": "execute_result",
          "data": {
            "text/plain": [
              "{'loss': 0.4751197099685669, 'accuracy': 0.84375}"
            ]
          },
          "metadata": {},
          "execution_count": 16
        }
      ],
      "source": [
        "model.evaluate(test_spectrogram_ds, return_dict=True)"
      ]
    },
    {
      "cell_type": "markdown",
      "metadata": {
        "id": "en9Znt1NOabH"
      },
      "source": [
        "### Display a confusion matrix\n",
        "\n",
        "Use a [confusion matrix](https://developers.google.com/machine-learning/glossary#confusion-matrix) to check how well the model did classifying each of the recordings in the test set:\n"
      ]
    },
    {
      "cell_type": "code",
      "execution_count": 17,
      "metadata": {
        "id": "5Y6vmWWQuuT1",
        "outputId": "b830b1d2-f6cf-4fd8-9b41-22e4c7199087",
        "colab": {
          "base_uri": "https://localhost:8080/"
        }
      },
      "outputs": [
        {
          "output_type": "stream",
          "name": "stdout",
          "text": [
            "13/13 [==============================] - 1s 86ms/step\n"
          ]
        }
      ],
      "source": [
        "y_pred = model.predict(test_spectrogram_ds)"
      ]
    },
    {
      "cell_type": "code",
      "execution_count": 18,
      "metadata": {
        "id": "d6F0il82u7lW"
      },
      "outputs": [],
      "source": [
        "y_pred = tf.argmax(y_pred, axis=1)"
      ]
    },
    {
      "cell_type": "code",
      "execution_count": 19,
      "metadata": {
        "id": "vHSNoBYLvX81"
      },
      "outputs": [],
      "source": [
        "y_true = tf.concat(list(test_spectrogram_ds.map(lambda s,lab: lab)), axis=0)"
      ]
    },
    {
      "cell_type": "code",
      "execution_count": 20,
      "metadata": {
        "id": "LvoSAOiXU3lL",
        "outputId": "965d7387-4833-4dd4-f395-fa178d271936",
        "colab": {
          "base_uri": "https://localhost:8080/",
          "height": 696
        }
      },
      "outputs": [
        {
          "output_type": "display_data",
          "data": {
            "text/plain": [
              "<Figure size 1000x800 with 2 Axes>"
            ],
            "image/png": "[encoded data removed]"
          },
          "metadata": {}
        }
      ],
      "source": [
        "confusion_mtx = tf.math.confusion_matrix(y_true, y_pred)\n",
        "plt.figure(figsize=(10, 8))\n",
        "sns.heatmap(confusion_mtx,\n",
        "            xticklabels=label_names,\n",
        "            yticklabels=label_names,\n",
        "            annot=True, fmt='g')\n",
        "plt.xlabel('Prediction')\n",
        "plt.ylabel('Label')\n",
        "plt.show()"
      ]
    },
    {
      "cell_type": "markdown",
      "metadata": {
        "id": "mQGi_mzPcLvl"
      },
      "source": [
        "## Check trained model for sample audio\n",
        "\n",
        "Finally, verify the model's prediction output using an input audio file. How well does your model perform?"
      ]
    },
    {
      "cell_type": "code",
      "source": [
        "#provide link to your sample file\n",
        "x = data_dir/'go/016e2c6d_nohash_2.wav'\n",
        "#x = data_dir/'no/0132a06d_nohash_3.wav'"
      ],
      "metadata": {
        "id": "x4MQiAAlw1kX"
      },
      "execution_count": 28,
      "outputs": []
    },
    {
      "cell_type": "code",
      "execution_count": 29,
      "metadata": {
        "id": "zRxauKMdhofU",
        "outputId": "c24c9c83-71bf-482f-c0d0-5d06a7703590",
        "colab": {
          "base_uri": "https://localhost:8080/",
          "height": 510
        }
      },
      "outputs": [
        {
          "output_type": "display_data",
          "data": {
            "text/plain": [
              "<Figure size 640x480 with 1 Axes>"
            ],
            "image/png": "[encoded data removed]"
          },
          "metadata": {}
        },
        {
          "output_type": "display_data",
          "data": {
            "text/plain": [
              "<IPython.lib.display.Audio object>"
            ],
            "text/html": [
              "\n",
              "                <audio  controls=\"controls\" >\n",
              "                    <source src=\"data:audio/wav;base64,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\" type=\"audio/wav\" />\n",
              "                    Your browser does not support the audio element.\n",
              "                </audio>\n",
              "              "
            ]
          },
          "metadata": {}
        }
      ],
      "source": [
        "x = tf.io.read_file(str(x))\n",
        "x, sample_rate = tf.audio.decode_wav(x, desired_channels=1, desired_samples=16000,)\n",
        "x = tf.squeeze(x, axis=-1)\n",
        "waveform = x\n",
        "x = get_spectrogram(x)\n",
        "x = x[tf.newaxis,...]\n",
        "\n",
        "prediction = model(x)\n",
        "#x_labels = ['no', 'yes', 'down', 'go', 'left', 'up', 'right', 'stop']\n",
        "x_labels = ['down', 'go', 'left', 'no', 'right', 'stop', 'up', 'yes']\n",
        "plt.bar(x_labels, tf.nn.softmax(prediction[0]))\n",
        "plt.title('Prediction')\n",
        "plt.show()\n",
        "\n",
        "display.display(display.Audio(waveform, rate=16000))"
      ]
    }
  ],
  "metadata": {
    "accelerator": "GPU",
    "colab": {
      "provenance": [],
      "include_colab_link": true
    },
    "kernelspec": {
      "display_name": "Python 3",
      "name": "python3"
    },
    "gpuClass": "standard"
  },
  "nbformat": 4,
  "nbformat_minor": 0
}