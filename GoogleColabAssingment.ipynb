{
  "nbformat": 4,
  "nbformat_minor": 0,
  "metadata": {
    "colab": {
      "provenance": [],
      "mount_file_id": "1zBMg_yJRDSkCYLZBVppzX6SRK_5im0b_",
      "authorship_tag": "ABX9TyNx8p88dagOSv9msp76UjHN",
      "include_colab_link": true
    },
    "kernelspec": {
      "name": "python3",
      "display_name": "Python 3"
    },
    "language_info": {
      "name": "python"
    }
  },
  "cells": [
    {
      "cell_type": "markdown",
      "metadata": {
        "id": "view-in-github",
        "colab_type": "text"
      },
      "source": [
        "<a href=\"https://colab.research.google.com/github/mkopyraa/GS2DIT/blob/main/GoogleColabAssingment.ipynb\" target=\"_parent\"><img src=\"https://colab.research.google.com/assets/colab-badge.svg\" alt=\"Open In Colab\"/></a>"
      ]
    },
    {
      "cell_type": "markdown",
      "source": [
        "#Code section"
      ],
      "metadata": {
        "id": "mWoXeI7pSLZa"
      }
    },
    {
      "cell_type": "code",
      "source": [
        "a=1"
      ],
      "metadata": {
        "id": "A_i9T904TlRL"
      },
      "execution_count": 14,
      "outputs": []
    },
    {
      "cell_type": "code",
      "source": [
        "b=2"
      ],
      "metadata": {
        "id": "nwJsytlbTlLT"
      },
      "execution_count": 15,
      "outputs": []
    },
    {
      "cell_type": "code",
      "source": [
        "a+b"
      ],
      "metadata": {
        "colab": {
          "base_uri": "https://localhost:8080/"
        },
        "id": "MZo9qcr5TlAL",
        "outputId": "6d94f7a2-9b6c-4569-d961-56ee27b452f6"
      },
      "execution_count": 16,
      "outputs": [
        {
          "output_type": "execute_result",
          "data": {
            "text/plain": [
              "3"
            ]
          },
          "metadata": {},
          "execution_count": 16
        }
      ]
    },
    {
      "cell_type": "markdown",
      "source": [
        "#Text section"
      ],
      "metadata": {
        "id": "M2sN_xugSP9z"
      }
    },
    {
      "cell_type": "markdown",
      "source": [
        "**print(\"Hello World!\")**"
      ],
      "metadata": {
        "id": "FKLNh3GMT5_T"
      }
    },
    {
      "cell_type": "markdown",
      "source": [
        "*print(\"Hello World!\")*"
      ],
      "metadata": {
        "id": "_8gd4LM2T38D"
      }
    },
    {
      "cell_type": "markdown",
      "source": [
        "```python\n",
        "print(\"Hello World!\")\n",
        "```"
      ],
      "metadata": {
        "id": "Ts3EaS9rT3xy"
      }
    }
  ]
}